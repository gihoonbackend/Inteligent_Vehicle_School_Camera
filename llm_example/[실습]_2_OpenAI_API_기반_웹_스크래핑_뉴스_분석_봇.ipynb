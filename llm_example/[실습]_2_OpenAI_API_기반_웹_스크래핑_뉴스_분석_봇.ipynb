{
  "cells": [
    {
      "cell_type": "markdown",
      "id": "e993b222",
      "metadata": {
        "id": "e993b222"
      },
      "source": [
        "# OpenAI API를 이용하여 뉴스 기사 정리 봇 만들기"
      ]
    },
    {
      "cell_type": "markdown",
      "id": "f4b410df",
      "metadata": {
        "id": "f4b410df"
      },
      "source": [
        "OpenAI Chat API를 이용해 뉴스 검색 결과를 정리하는 프로그램을 만들어보기\n"
      ]
    },
    {
      "cell_type": "markdown",
      "id": "35b32f4c",
      "metadata": {
        "id": "35b32f4c"
      },
      "source": [
        "크롤링 전용 라이브러리가 필요하지만, 이번 실습에서는 네이버의 뉴스 검색 API를 사용."
      ]
    },
    {
      "cell_type": "code",
      "execution_count": null,
      "id": "f6eb4187",
      "metadata": {
        "id": "f6eb4187"
      },
      "outputs": [],
      "source": [
        "!pip install openai tiktoken --upgrade"
      ]
    },
    {
      "cell_type": "code",
      "execution_count": null,
      "id": "ccd94373",
      "metadata": {
        "id": "ccd94373"
      },
      "outputs": [],
      "source": [
        "#key 입력"
      ]
    },
    {
      "cell_type": "markdown",
      "id": "6184c71a",
      "metadata": {
        "id": "6184c71a"
      },
      "source": [
        "## 1. LLM으로 웹 크롤링 코드 구현 프롬프트 만들기"
      ]
    },
    {
      "cell_type": "markdown",
      "id": "e56eb3c0",
      "metadata": {
        "id": "e56eb3c0"
      },
      "source": [
        "네이버 뉴스 API를 이용해 크롤링을 수행하는 파이썬 코드를 작성하겠습니다.   \n",
        "검색어가 `query` 인수로 주어지면, 관련도순으로 검색된 뉴스 기사 30개의 정보를 {\"title\", \"URL\", \"desc\"} 의 dictionary 형식으로 파싱하고,   \n",
        "이를 리스트로 만들어 json으로 return하는 함수 get_html(query) 를 만들고 싶습니다.   <br>\n",
        "   \n",
        "위 요청을 그대로 전달하면, 함수를 만들 수 있을 것 같습니다.\n",
        "\n",
        "\n",
        "**네이버 뉴스 API를 사용한다는 내용을 명시하면 정확도가 올라갑니다.**"
      ]
    },
    {
      "cell_type": "code",
      "execution_count": null,
      "id": "c7df62cb",
      "metadata": {
        "id": "c7df62cb"
      },
      "outputs": [],
      "source": [
        "prompt_instuction = '''\n",
        "네이버 뉴스 API를 이용해 크롤링을 수행하는 파이썬 코드를 작성해 주세요.\n",
        "검색어가 `query` 인수로 주어지면, 관련도순으로 검색된 뉴스 기사 30개의 정보를 \n",
        "{\"title\", \"URL\", \"desc\"} 의 dictionary 형식으로 파싱하고,\n",
        "이를 리스트로 만들어 json으로 return하는 함수 get_html(query) 를 만들면 됩니다.\n",
        "---\n",
        "'''\n",
        "\n",
        "prompt = '''\n",
        "\n",
        "# 검색어\n",
        "query = '생성형 AI'\n",
        "\n",
        "\n",
        "# 검색 결과를 return하는 함수\n",
        "def get_html(query):\n",
        "\n",
        "\n",
        "'''\n",
        "\n"
      ]
    },
    {
      "cell_type": "code",
      "execution_count": null,
      "id": "518da06c",
      "metadata": {
        "id": "518da06c",
        "scrolled": true
      },
      "outputs": [],
      "source": [
        "response = client.chat.completions.create(\n",
        "    model = \"gpt-4o-mini\",\n",
        "    messages = [{'role':'system', 'content':'당신은 파이썬 코딩의 전문가입니다.'},\n",
        "          {'role':'user', 'content':prompt_instuction + prompt}],\n",
        "\n",
        "    temperature =  0.1,\n",
        "    max_tokens = 1000\n",
        "\n",
        ")\n",
        "print(response.choices[0].message.content)"
      ]
    },
    {
      "cell_type": "code",
      "execution_count": null,
      "id": "ff32acf9",
      "metadata": {
        "id": "ff32acf9"
      },
      "outputs": [],
      "source": [
        "# VS CODE에서 위 결과가 truncated 되는 경우 scrollable element를 클릭하여 풀 코드 확인"
      ]
    },
    {
      "cell_type": "markdown",
      "id": "026ed5ff",
      "metadata": {
        "id": "026ed5ff"
      },
      "source": [
        "아래에 코드를 넣고 실행해 보겠습니다."
      ]
    },
    {
      "cell_type": "code",
      "execution_count": null,
      "id": "09b139b1",
      "metadata": {
        "id": "09b139b1"
      },
      "outputs": [],
      "source": []
    },
    {
      "cell_type": "markdown",
      "id": "c6zegWViDj_5",
      "metadata": {
        "id": "c6zegWViDj_5"
      },
      "source": [
        "단, API 키는 LLM으로 가져올 수 없으므로 아래의 키를 사용합니다."
      ]
    },
    {
      "cell_type": "code",
      "execution_count": null,
      "id": "sSbAVpJ6DjfP",
      "metadata": {
        "id": "sSbAVpJ6DjfP"
      },
      "outputs": [],
      "source": [
        "headers = {\n",
        "    'X-Naver-Client-Id': '',\n",
        "    'X-Naver-Client-Secret': ''\n",
        "}"
      ]
    },
    {
      "cell_type": "markdown",
      "id": "875dc181",
      "metadata": {
        "id": "875dc181"
      },
      "source": [
        "아래는 모범 답안입니다. 결과가 조금 다르게 나오더라도 이후 코드를 수정하면 되므로 괜찮습니다."
      ]
    },
    {
      "cell_type": "code",
      "execution_count": null,
      "id": "7b98cc94",
      "metadata": {
        "id": "7b98cc94",
        "scrolled": true
      },
      "outputs": [],
      "source": [
        "# # 전체 코드를 선택 후 Ctrl+/ 로 일괄 주석해제\n",
        "# import requests\n",
        "# import json\n",
        "\n",
        "# def get_html(query):\n",
        "#     # 네이버 API URL\n",
        "#     url = \"https://openapi.naver.com/v1/search/news.json\"\n",
        "\n",
        "#     # API 요청 헤더\n",
        "#     headers = {\n",
        "#     'X-Naver-Client-Id': '',\n",
        "#     'X-Naver-Client-Secret': ''\n",
        "\n",
        "#     }\n",
        "\n",
        "#     # API 요청 파라미터\n",
        "#     params = {\n",
        "#         \"query\": query,\n",
        "#         \"display\": 30,  # 검색 결과 개수\n",
        "#         \"sort\": \"sim\"   # 관련도순 정렬\n",
        "#     }\n",
        "\n",
        "#     # API 요청\n",
        "#     response = requests.get(url, headers=headers, params=params)\n",
        "\n",
        "#     # 응답이 성공적일 경우\n",
        "#     if response.status_code == 200:\n",
        "#         data = response.json()\n",
        "#         articles = data.get('items', [])\n",
        "\n",
        "#         # 결과를 저장할 리스트\n",
        "#         result = []\n",
        "\n",
        "#         # 기사 정보 파싱\n",
        "#         for article in articles:\n",
        "#             result.append({\n",
        "#                 \"title\": article['title'],\n",
        "#                 \"URL\": article['link'],\n",
        "#                 \"desc\": article['description']\n",
        "#             })\n",
        "\n",
        "#         # JSON 형식으로 반환\n",
        "#         return json.dumps(result, ensure_ascii=False)\n",
        "\n",
        "#     else:\n",
        "#         return json.dumps({\"error\": \"Failed to fetch data\"}, ensure_ascii=False)\n",
        "\n",
        "# # 검색어\n",
        "# query = '생성형 AI'\n",
        "\n",
        "# # 함수 호출\n",
        "# result = get_html(query)\n",
        "# print(result)"
      ]
    },
    {
      "cell_type": "markdown",
      "id": "e399facd",
      "metadata": {
        "id": "e399facd"
      },
      "source": [
        "## 2. OpenAI chat을 이용하여 요약하기"
      ]
    },
    {
      "cell_type": "markdown",
      "id": "a995dc0b",
      "metadata": {
        "id": "a995dc0b"
      },
      "source": [
        "키워드에 대한 뉴스 검색 결과를 요약합니다.   \n",
        "위 결과인 news_json 데이터를 입력으로 넣은 뒤, 해당 결과에 대한 요약을 요청합니다."
      ]
    },
    {
      "cell_type": "code",
      "execution_count": null,
      "id": "97ead65c",
      "metadata": {
        "id": "97ead65c"
      },
      "outputs": [],
      "source": [
        "def news_bot(messages):\n",
        "\n",
        "    result = client.chat.completions.create(\n",
        "        model=\"gpt-4o-mini\",\n",
        "        messages = messages,\n",
        "        temperature = 0.1,\n",
        "        max_tokens= 2048,\n",
        "    )\n",
        "\n",
        "    return result.choices[0].message.content"
      ]
    },
    {
      "cell_type": "code",
      "execution_count": null,
      "id": "ElqH6FhH-Af4",
      "metadata": {
        "id": "ElqH6FhH-Af4"
      },
      "outputs": [],
      "source": []
    },
    {
      "cell_type": "markdown",
      "id": "f0ff486c",
      "metadata": {
        "id": "f0ff486c"
      },
      "source": [
        "챗봇에 전달할 메시지는 두 개로 나눠집니다.   \n",
        "위에서 얻은 get_html(query)와, 사용자가 제시할 명령입니다.   "
      ]
    },
    {
      "cell_type": "code",
      "execution_count": null,
      "id": "4862d552",
      "metadata": {
        "id": "4862d552"
      },
      "outputs": [],
      "source": []
    },
    {
      "cell_type": "code",
      "execution_count": null,
      "id": "ba01b31a",
      "metadata": {
        "id": "ba01b31a",
        "scrolled": true
      },
      "outputs": [],
      "source": [
        "query = '삼성 라이온즈'\n",
        "\n",
        "news_json = get_html(query)\n",
        "\n",
        "result = news_bot([\n",
        "    {\n",
        "        \"role\": \"system\",\n",
        "        \"content\": query + \"\"\"에 대한 뉴스 검색 결과가 주어집니다. \"\"\"+ query+\"\"\"에 대한 뉴스를\n",
        "요약하세요. 주제별로 링크를 포함하세요.\n",
        "---\n",
        "\"\"\"\n",
        "    },\n",
        "    {\n",
        "        \"role\": \"user\",\n",
        "        \"content\": get_html(query)\n",
        "    }\n",
        "])\n",
        "\n",
        "print(result)"
      ]
    },
    {
      "cell_type": "code",
      "execution_count": null,
      "id": "eb8753f4",
      "metadata": {
        "id": "eb8753f4"
      },
      "outputs": [],
      "source": [
        "# 토큰 수 체크\n",
        "\n",
        "import tiktoken\n",
        "tokenizer  = tiktoken.encoding_for_model('gpt-4o-mini')\n",
        "\n",
        "print(\"문자 수:\", len(news_json))\n",
        "print(\"토큰 수:\", len(tokenizer.encode(news_json)))\n",
        "news_json\n"
      ]
    },
    {
      "cell_type": "markdown",
      "id": "f22469ad",
      "metadata": {
        "id": "f22469ad"
      },
      "source": [
        "다양한 명령을 넣어서 형식과 스타일을 바꿀 수 있습니다.\n",
        "\n",
        "# 실습 query의 뉴스 내용을 기반으로 서로 대화하는 형식의 답변 출력하기"
      ]
    },
    {
      "cell_type": "code",
      "execution_count": null,
      "id": "b83450fb",
      "metadata": {
        "id": "b83450fb"
      },
      "outputs": [],
      "source": [
        "query = ''\n",
        "\n",
        "news_json  = get_html(query)\n",
        "\n",
        "result = news_bot([\n",
        "    {\n",
        "        \"role\": \"user\",\n",
        "        \"content\": news_json\n",
        "    },\n",
        "    {\n",
        "        \"role\": \"user\",\n",
        "        \"content\": f\"\"\"\n",
        "내용 입력\n",
        "        \"\"\"\n",
        "    }\n",
        "])\n",
        "\n",
        "print(result)"
      ]
    },
    {
      "cell_type": "markdown",
      "id": "4aa4182c",
      "metadata": {
        "id": "4aa4182c"
      },
      "source": [
        "## 참고) 스트리밍\n",
        "ChatGPT처럼 글자가 한 글자씩 순서대로 쭉 출력되도록 하면 어떨까요?   \n",
        "이와 같은 작업을 스트리밍(Streaming)이라고 하며, 옵션을 추가하여 구현할 수 있습니다."
      ]
    },
    {
      "cell_type": "code",
      "execution_count": null,
      "id": "c9c2254e",
      "metadata": {
        "id": "c9c2254e"
      },
      "outputs": [],
      "source": [
        "def news_bot_stream(messages):\n",
        "\n",
        "    result = client.chat.completions.create(\n",
        "        model = \"gpt-4o-mini\",\n",
        "        messages = messages,\n",
        "        temperature = 0.1,\n",
        "        max_tokens = 2048,\n",
        "        stream=True # 스트리밍\n",
        "    )\n",
        "\n",
        "    return result"
      ]
    },
    {
      "cell_type": "code",
      "execution_count": null,
      "id": "c57c0f75",
      "metadata": {
        "id": "c57c0f75"
      },
      "outputs": [],
      "source": [
        "query = '엔비디아 주가'\n",
        "news_json = get_html(query)\n",
        "\n",
        "result = news_bot_stream([\n",
        "    {\n",
        "        \"role\": \"user\",\n",
        "        \"content\": news_json\n",
        "    },\n",
        "    {\n",
        "        \"role\": \"user\",\n",
        "        \"content\": \"\"\"\n",
        "위 전체 내용을 종합하여 친구에게 전달하는 편지를 작성해줘. 친절하고 상냥한 말투를 사용하고, 형식은 아래와 같아.\n",
        "---\n",
        "'제목':\n",
        "'본문':\n",
        "        \"\"\"\n",
        "    }\n",
        "])\n",
        "\n",
        "for chunk in result:\n",
        "    print(chunk.choices[0].delta.content, end='')"
      ]
    },
    {
      "cell_type": "markdown",
      "id": "72c46e8a",
      "metadata": {
        "id": "72c46e8a"
      },
      "source": [
        "이와 같은 스트리밍은 LLM 어플리케이션의 마지막 출력에서 사용하면    \n",
        "사용자 경험을 향상시킬 수 있습니다."
      ]
    },
    {
      "cell_type": "markdown",
      "id": "5fe30bcb",
      "metadata": {
        "id": "5fe30bcb"
      },
      "source": [
        "## 심화) 챗봇 기능 고도화하기"
      ]
    },
    {
      "cell_type": "markdown",
      "id": "91300ded",
      "metadata": {
        "id": "91300ded"
      },
      "source": [
        "위에서 만든 news_bot에, 관련없는 질문을 입력하면 어떻게 될까요?"
      ]
    },
    {
      "cell_type": "code",
      "execution_count": null,
      "id": "661afa73",
      "metadata": {
        "id": "661afa73"
      },
      "outputs": [],
      "source": [
        "news_json"
      ]
    },
    {
      "cell_type": "code",
      "execution_count": null,
      "id": "1f0cadfc",
      "metadata": {
        "id": "1f0cadfc"
      },
      "outputs": [],
      "source": [
        "result = news_bot([\n",
        "    {\n",
        "        \"role\": \"user\",\n",
        "        \"content\": news_json\n",
        "    },\n",
        "    {\n",
        "        \"role\": \"user\",\n",
        "        \"content\": \"오늘 저녁 뭐 먹을까? 타코와 피자 중에서.\"\n",
        "    },\n",
        "\n",
        "])\n",
        "\n",
        "print(result)"
      ]
    },
    {
      "cell_type": "markdown",
      "id": "6c57a07f",
      "metadata": {
        "id": "6c57a07f"
      },
      "source": [
        "그럭저럭 대답을 잘 하고 있습니다만, query를 통해 검색한 결과와는 관련이 없습니다.   \n",
        "만약 특정 태스크만을 수행하는 챗봇을 만들었다면, 이와 같은 응답은 **환각(Hallucination)** 으로 간주될 수 있으며,   \n",
        "이와 같은 행동을 쉽게 허용한다면 예상치 못한 출력을 생성할지도 모릅니다.\n"
      ]
    },
    {
      "cell_type": "markdown",
      "id": "b61e167d",
      "metadata": {
        "id": "b61e167d"
      },
      "source": [
        "환각을 방지하기 위해, 프롬프트를 조금 더 강화시켜 보겠습니다.    \n",
        "챗봇의 메시지 중 `system`을 이용하면, 챗봇의 행동을 더 명시적으로 전달할 수 있습니다."
      ]
    },
    {
      "cell_type": "markdown",
      "id": "f7ef602a",
      "metadata": {
        "id": "f7ef602a"
      },
      "source": [
        "## 실습) 튼튼한(?) 챗봇 만들기\n",
        "위와 같이 주어진 정보와 관련없는 데이터가 주어질 경우, 이를 방어할 수 있는 챗봇 프롬프트를 구성하세요.     \n",
        "예를 들어, news_json과 관련이 없는 질문이 나오면 답변을 거절하면 될 것 같습니다."
      ]
    },
    {
      "cell_type": "code",
      "execution_count": null,
      "id": "FUkkFy1n84sw",
      "metadata": {
        "id": "FUkkFy1n84sw"
      },
      "outputs": [],
      "source": [
        "query = 'LLM'\n",
        "news_json = get_html(query)\n",
        "news_json"
      ]
    },
    {
      "cell_type": "code",
      "execution_count": null,
      "id": "9e3d4644",
      "metadata": {
        "id": "9e3d4644"
      },
      "outputs": [],
      "source": [
        "result = news_bot([\n",
        "    {'role':'system',\n",
        "     'content':'''\n",
        "내용 입력\n",
        "'''\n",
        "     },\n",
        "    {\n",
        "        \"role\": \"user\",\n",
        "        \"content\": '[정보]: ' + news_json\n",
        "    },\n",
        "    {\n",
        "        \"role\": \"user\",\n",
        "        \"content\": \"[질문]: \"\n",
        "    },\n",
        "\n",
        "])\n",
        "\n",
        "print(result)"
      ]
    },
    {
      "cell_type": "markdown",
      "id": "c8452a41",
      "metadata": {
        "id": "c8452a41"
      },
      "source": [
        "이번 실습 시간에 만들어 본 봇의 기능을 더 추가하는 방법에는 무엇이 있을까요?\n",
        "<br><br>\n",
        "- 검색 결과에서 최신 기사만 필터링하기\n",
        "- query 검색 결과에서 특정 단어가 포함된 기사는 제외하기\n",
        "- 각 기사들의 설명을 보고 해당 단어에 대한 긍정(부정)적인 기사만 사용하여 요약하기    \n",
        "\n",
        "이와 같은 방법들은 실제로 사용되는 방식이므로, 이를 활용하면 챗봇의 기능을 더 고도화할 수 있습니다."
      ]
    },
    {
      "cell_type": "markdown",
      "id": "cdad1710",
      "metadata": {},
      "source": []
    },
    {
      "cell_type": "markdown",
      "id": "1c03dfe9",
      "metadata": {
        "id": "1c03dfe9"
      },
      "source": [
        "## 부록) Prompt Injection\n",
        "\n",
        "적대적 프롬프트(Adversarial Prompt)를 통해 챗봇의 기능을 무력화하고, 정보를 유출시키는 프롬프트도 있습니다.\n",
        "\n",
        "https://www.promptingguide.ai/kr/risks/adversarial    \n",
        "https://github.com/0xk1h0/ChatGPT_DAN    \n"
      ]
    }
  ],
  "metadata": {
    "colab": {
      "provenance": []
    },
    "kernelspec": {
      "display_name": "Python 3 (ipykernel)",
      "language": "python",
      "name": "python3"
    },
    "language_info": {
      "codemirror_mode": {
        "name": "ipython",
        "version": 3
      },
      "file_extension": ".py",
      "mimetype": "text/x-python",
      "name": "python",
      "nbconvert_exporter": "python",
      "pygments_lexer": "ipython3",
      "version": "3.12.4"
    }
  },
  "nbformat": 4,
  "nbformat_minor": 5
}
